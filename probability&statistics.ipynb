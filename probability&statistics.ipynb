{
 "cells": [
  {
   "cell_type": "markdown",
   "id": "6bd4a890",
   "metadata": {},
   "source": [
    "### Import the libraries"
   ]
  },
  {
   "cell_type": "code",
   "execution_count": 1,
   "id": "c007f0d9",
   "metadata": {},
   "outputs": [],
   "source": [
    "import numpy as np\n",
    "import pandas as pd\n",
    "import scipy.stats as stats\n",
    "import statsmodels.formula.api as smf\n",
    "import matplotlib.pyplot as pl\n",
    "#%matplotlib inline"
   ]
  },
  {
   "cell_type": "markdown",
   "id": "6f781eb9-7961-447a-9c74-4bc8abba325e",
   "metadata": {},
   "source": [
    "# Probability"
   ]
  },
  {
   "cell_type": "markdown",
   "id": "ef56c466",
   "metadata": {},
   "source": [
    "### Load the data"
   ]
  },
  {
   "cell_type": "code",
   "execution_count": 2,
   "id": "8e38aa4f",
   "metadata": {},
   "outputs": [
    {
     "data": {
      "text/html": [
       "<div>\n",
       "<style scoped>\n",
       "    .dataframe tbody tr th:only-of-type {\n",
       "        vertical-align: middle;\n",
       "    }\n",
       "\n",
       "    .dataframe tbody tr th {\n",
       "        vertical-align: top;\n",
       "    }\n",
       "\n",
       "    .dataframe thead th {\n",
       "        text-align: right;\n",
       "    }\n",
       "</style>\n",
       "<table border=\"1\" class=\"dataframe\">\n",
       "  <thead>\n",
       "    <tr style=\"text-align: right;\">\n",
       "      <th></th>\n",
       "      <th>Breed</th>\n",
       "      <th>DeSexed</th>\n",
       "      <th>Dangerous</th>\n",
       "      <th>Menacing</th>\n",
       "      <th>Sex</th>\n",
       "      <th>MicroChipped</th>\n",
       "    </tr>\n",
       "  </thead>\n",
       "  <tbody>\n",
       "    <tr>\n",
       "      <th>0</th>\n",
       "      <td>All cross breeds</td>\n",
       "      <td>No</td>\n",
       "      <td>No</td>\n",
       "      <td>No</td>\n",
       "      <td>Female</td>\n",
       "      <td>Yes</td>\n",
       "    </tr>\n",
       "    <tr>\n",
       "      <th>1</th>\n",
       "      <td>All cross breeds</td>\n",
       "      <td>Yes</td>\n",
       "      <td>No</td>\n",
       "      <td>No</td>\n",
       "      <td>Male</td>\n",
       "      <td>Yes</td>\n",
       "    </tr>\n",
       "    <tr>\n",
       "      <th>2</th>\n",
       "      <td>All cross breeds</td>\n",
       "      <td>Yes</td>\n",
       "      <td>No</td>\n",
       "      <td>No</td>\n",
       "      <td>Female</td>\n",
       "      <td>Yes</td>\n",
       "    </tr>\n",
       "    <tr>\n",
       "      <th>3</th>\n",
       "      <td>All cross breeds</td>\n",
       "      <td>Yes</td>\n",
       "      <td>No</td>\n",
       "      <td>No</td>\n",
       "      <td>Female</td>\n",
       "      <td>No</td>\n",
       "    </tr>\n",
       "    <tr>\n",
       "      <th>4</th>\n",
       "      <td>All cross breeds</td>\n",
       "      <td>Yes</td>\n",
       "      <td>No</td>\n",
       "      <td>No</td>\n",
       "      <td>Female</td>\n",
       "      <td>No</td>\n",
       "    </tr>\n",
       "  </tbody>\n",
       "</table>\n",
       "</div>"
      ],
      "text/plain": [
       "              Breed DeSexed Dangerous Menacing     Sex MicroChipped\n",
       "0  All cross breeds      No        No       No  Female          Yes\n",
       "1  All cross breeds     Yes        No       No    Male          Yes\n",
       "2  All cross breeds     Yes        No       No  Female          Yes\n",
       "3  All cross breeds     Yes        No       No  Female           No\n",
       "4  All cross breeds     Yes        No       No  Female           No"
      ]
     },
     "execution_count": 2,
     "metadata": {},
     "output_type": "execute_result"
    }
   ],
   "source": [
    "dog = pd.read_csv('dogs.csv')\n",
    "dog.head()"
   ]
  },
  {
   "cell_type": "markdown",
   "id": "8aa6f40d",
   "metadata": {},
   "source": [
    "### Explore he proportion of the population "
   ]
  },
  {
   "cell_type": "code",
   "execution_count": 3,
   "id": "9d4d2f99",
   "metadata": {},
   "outputs": [
    {
     "data": {
      "text/html": [
       "<div>\n",
       "<style scoped>\n",
       "    .dataframe tbody tr th:only-of-type {\n",
       "        vertical-align: middle;\n",
       "    }\n",
       "\n",
       "    .dataframe tbody tr th {\n",
       "        vertical-align: top;\n",
       "    }\n",
       "\n",
       "    .dataframe thead th {\n",
       "        text-align: right;\n",
       "    }\n",
       "</style>\n",
       "<table border=\"1\" class=\"dataframe\">\n",
       "  <thead>\n",
       "    <tr style=\"text-align: right;\">\n",
       "      <th></th>\n",
       "      <th>counts</th>\n",
       "      <th>probs</th>\n",
       "    </tr>\n",
       "  </thead>\n",
       "  <tbody>\n",
       "    <tr>\n",
       "      <th>All cross breeds</th>\n",
       "      <td>205</td>\n",
       "      <td>0.205</td>\n",
       "    </tr>\n",
       "    <tr>\n",
       "      <th>All pure and cross breeds</th>\n",
       "      <td>490</td>\n",
       "      <td>0.490</td>\n",
       "    </tr>\n",
       "    <tr>\n",
       "      <th>All pure breeds</th>\n",
       "      <td>305</td>\n",
       "      <td>0.305</td>\n",
       "    </tr>\n",
       "  </tbody>\n",
       "</table>\n",
       "</div>"
      ],
      "text/plain": [
       "                           counts  probs\n",
       "All cross breeds              205  0.205\n",
       "All pure and cross breeds     490  0.490\n",
       "All pure breeds               305  0.305"
      ]
     },
     "execution_count": 3,
     "metadata": {},
     "output_type": "execute_result"
    }
   ],
   "source": [
    "# counts by Breed\n",
    "btab = dog[\"Breed\"].value_counts().sort_index()\n",
    "# convert to proportions and store as a data frame\n",
    "breed_dist = pd.DataFrame({'counts':btab, 'probs':btab/sum(btab)})\n",
    "breed_dist"
   ]
  },
  {
   "cell_type": "markdown",
   "id": "3b0c4113-4714-41ea-9843-7fa612fd0230",
   "metadata": {},
   "source": [
    "### Explore Joint probabilities"
   ]
  },
  {
   "cell_type": "code",
   "execution_count": 4,
   "id": "586a3303",
   "metadata": {},
   "outputs": [
    {
     "data": {
      "text/html": [
       "<div>\n",
       "<style scoped>\n",
       "    .dataframe tbody tr th:only-of-type {\n",
       "        vertical-align: middle;\n",
       "    }\n",
       "\n",
       "    .dataframe tbody tr th {\n",
       "        vertical-align: top;\n",
       "    }\n",
       "\n",
       "    .dataframe thead th {\n",
       "        text-align: right;\n",
       "    }\n",
       "</style>\n",
       "<table border=\"1\" class=\"dataframe\">\n",
       "  <thead>\n",
       "    <tr style=\"text-align: right;\">\n",
       "      <th>MicroChipped</th>\n",
       "      <th>No</th>\n",
       "      <th>Yes</th>\n",
       "      <th>Total</th>\n",
       "    </tr>\n",
       "    <tr>\n",
       "      <th>Sex</th>\n",
       "      <th></th>\n",
       "      <th></th>\n",
       "      <th></th>\n",
       "    </tr>\n",
       "  </thead>\n",
       "  <tbody>\n",
       "    <tr>\n",
       "      <th>Female</th>\n",
       "      <td>0.221</td>\n",
       "      <td>0.292</td>\n",
       "      <td>0.513</td>\n",
       "    </tr>\n",
       "    <tr>\n",
       "      <th>Male</th>\n",
       "      <td>0.219</td>\n",
       "      <td>0.268</td>\n",
       "      <td>0.487</td>\n",
       "    </tr>\n",
       "    <tr>\n",
       "      <th>Total</th>\n",
       "      <td>0.440</td>\n",
       "      <td>0.560</td>\n",
       "      <td>1.000</td>\n",
       "    </tr>\n",
       "  </tbody>\n",
       "</table>\n",
       "</div>"
      ],
      "text/plain": [
       "MicroChipped     No    Yes  Total\n",
       "Sex                              \n",
       "Female        0.221  0.292  0.513\n",
       "Male          0.219  0.268  0.487\n",
       "Total         0.440  0.560  1.000"
      ]
     },
     "execution_count": 4,
     "metadata": {},
     "output_type": "execute_result"
    }
   ],
   "source": [
    "# Joint probabilities by Sex and Microchipped: use normalise='all'\n",
    "ctab = pd.crosstab(dog['Sex'], dog['MicroChipped'], \n",
    "                   margins=True, margins_name='Total', normalize='all')\n",
    "ctab"
   ]
  },
  {
   "cell_type": "markdown",
   "id": "deb52ec2",
   "metadata": {},
   "source": [
    "### Explore Conditional probabilities\n",
    "- The conditional probability P(A|B) = P(event A occurs given that event B has occurred) "
   ]
  },
  {
   "cell_type": "code",
   "execution_count": 5,
   "id": "783dff49",
   "metadata": {},
   "outputs": [
    {
     "data": {
      "text/html": [
       "<div>\n",
       "<style scoped>\n",
       "    .dataframe tbody tr th:only-of-type {\n",
       "        vertical-align: middle;\n",
       "    }\n",
       "\n",
       "    .dataframe tbody tr th {\n",
       "        vertical-align: top;\n",
       "    }\n",
       "\n",
       "    .dataframe thead th {\n",
       "        text-align: right;\n",
       "    }\n",
       "</style>\n",
       "<table border=\"1\" class=\"dataframe\">\n",
       "  <thead>\n",
       "    <tr style=\"text-align: right;\">\n",
       "      <th>MicroChipped</th>\n",
       "      <th>No</th>\n",
       "      <th>Yes</th>\n",
       "    </tr>\n",
       "    <tr>\n",
       "      <th>Sex</th>\n",
       "      <th></th>\n",
       "      <th></th>\n",
       "    </tr>\n",
       "  </thead>\n",
       "  <tbody>\n",
       "    <tr>\n",
       "      <th>Female</th>\n",
       "      <td>0.502273</td>\n",
       "      <td>0.521429</td>\n",
       "    </tr>\n",
       "    <tr>\n",
       "      <th>Male</th>\n",
       "      <td>0.497727</td>\n",
       "      <td>0.478571</td>\n",
       "    </tr>\n",
       "  </tbody>\n",
       "</table>\n",
       "</div>"
      ],
      "text/plain": [
       "MicroChipped        No       Yes\n",
       "Sex                             \n",
       "Female        0.502273  0.521429\n",
       "Male          0.497727  0.478571"
      ]
     },
     "execution_count": 5,
     "metadata": {},
     "output_type": "execute_result"
    }
   ],
   "source": [
    "# Conditional probabilities for Gender given microchipped: use normalise='columns' (normalise down the columns)\n",
    "ctab = pd.crosstab(dog['Sex'], dog['MicroChipped'], \n",
    "                   normalize='columns')\n",
    "ctab"
   ]
  },
  {
   "cell_type": "code",
   "execution_count": 6,
   "id": "4f52ee6e",
   "metadata": {},
   "outputs": [
    {
     "data": {
      "text/html": [
       "<div>\n",
       "<style scoped>\n",
       "    .dataframe tbody tr th:only-of-type {\n",
       "        vertical-align: middle;\n",
       "    }\n",
       "\n",
       "    .dataframe tbody tr th {\n",
       "        vertical-align: top;\n",
       "    }\n",
       "\n",
       "    .dataframe thead th {\n",
       "        text-align: right;\n",
       "    }\n",
       "</style>\n",
       "<table border=\"1\" class=\"dataframe\">\n",
       "  <thead>\n",
       "    <tr style=\"text-align: right;\">\n",
       "      <th>MicroChipped</th>\n",
       "      <th>No</th>\n",
       "      <th>Yes</th>\n",
       "    </tr>\n",
       "    <tr>\n",
       "      <th>Sex</th>\n",
       "      <th></th>\n",
       "      <th></th>\n",
       "    </tr>\n",
       "  </thead>\n",
       "  <tbody>\n",
       "    <tr>\n",
       "      <th>Female</th>\n",
       "      <td>0.430799</td>\n",
       "      <td>0.569201</td>\n",
       "    </tr>\n",
       "    <tr>\n",
       "      <th>Male</th>\n",
       "      <td>0.449692</td>\n",
       "      <td>0.550308</td>\n",
       "    </tr>\n",
       "  </tbody>\n",
       "</table>\n",
       "</div>"
      ],
      "text/plain": [
       "MicroChipped        No       Yes\n",
       "Sex                             \n",
       "Female        0.430799  0.569201\n",
       "Male          0.449692  0.550308"
      ]
     },
     "execution_count": 6,
     "metadata": {},
     "output_type": "execute_result"
    }
   ],
   "source": [
    "# Conditional probabilities for Qualification given Gender: use normalise='index' (normalise across the rows)\n",
    "ctab = pd.crosstab(dog['Sex'], dog['MicroChipped'], \n",
    "                   normalize='index')\n",
    "ctab"
   ]
  },
  {
   "cell_type": "markdown",
   "id": "5ecfda0a",
   "metadata": {},
   "source": [
    "### Probability distributions"
   ]
  },
  {
   "cell_type": "markdown",
   "id": "7b88ebcc",
   "metadata": {},
   "source": [
    "Note: \n",
    "\n",
    "  * A **probability mass function** $P(X=x)$ is the probability that a discrete or categorical random variable $X$ takes a particular value $x$\n",
    "  * A **cumulative distribution function** $P(X\\leq x)$ is the probability that a nueerical random variable $X$ (which can be discrete or continuous) takes a value less than or equal to a particular value $x$.\n",
    "  \n",
    "A **hypergeometric random variable** $X$ is a random variable with three parameters.   $X$ is the number of items a certain kind in a sample of $N$ drawn from a population of size $M$ which contains $n$ items of that kind.  "
   ]
  },
  {
   "cell_type": "markdown",
   "id": "6253f0a5",
   "metadata": {},
   "source": [
    "#####  The probability that  𝑋  is 5."
   ]
  },
  {
   "cell_type": "code",
   "execution_count": 7,
   "id": "b787684a",
   "metadata": {},
   "outputs": [
    {
     "name": "stdout",
     "output_type": "stream",
     "text": [
      "Pr(X=5) = 0.17486573799562924\n"
     ]
    }
   ],
   "source": [
    "import numpy as np\n",
    "from scipy.stats import hypergeom\n",
    "\n",
    "n= 1000\n",
    "N = 20\n",
    "M = 5000\n",
    "x=5\n",
    "\n",
    "prob=hypergeom.pmf(x, M, n, N)  # hypergeom.pmf(x, M, n, N)\n",
    "print(\"Pr(X=\", x, \") = \", prob, sep=\"\")"
   ]
  },
  {
   "cell_type": "markdown",
   "id": "8ca13bee",
   "metadata": {},
   "source": [
    "##### The probability that $X$ is less than 5."
   ]
  },
  {
   "cell_type": "code",
   "execution_count": 8,
   "id": "39be1310",
   "metadata": {},
   "outputs": [
    {
     "name": "stdout",
     "output_type": "stream",
     "text": [
      "Pr(X<5) = 0.6297359750433553\n"
     ]
    }
   ],
   "source": [
    "prob=hypergeom.cdf(x-1, M, n, N) # x < 5 = x <= 4\n",
    "print(\"Pr(X<\", x, \") = \", prob, sep=\"\")"
   ]
  },
  {
   "cell_type": "markdown",
   "id": "1052acdc",
   "metadata": {},
   "source": [
    "##### Tthe probability that $X$ is in the range 5 to 10 **inclusive**."
   ]
  },
  {
   "cell_type": "code",
   "execution_count": 9,
   "id": "af1ed65f",
   "metadata": {},
   "outputs": [
    {
     "name": "stdout",
     "output_type": "stream",
     "text": [
      "Pr(5<=X<=10) = 0.3697162204776304\n"
     ]
    }
   ],
   "source": [
    "prob = hypergeom.cdf(10, M, n, N)-hypergeom.cdf(4, M, n, N) # need 10 -5, so x<=10 - x<=4\n",
    "print(\"Pr(\", 5, \"<=X\", \"<=\",10,\") = \", prob, sep=\"\")"
   ]
  },
  {
   "cell_type": "markdown",
   "id": "a3e6a771",
   "metadata": {},
   "source": [
    "##### A bar chart of the probability of each possible value of $X$"
   ]
  },
  {
   "cell_type": "code",
   "execution_count": 10,
   "id": "97c8afd4",
   "metadata": {},
   "outputs": [
    {
     "data": {
      "image/png": "[encoded data removed]",
      "text/plain": [
       "<Figure size 432x288 with 1 Axes>"
      ]
     },
     "metadata": {
      "needs_background": "light"
     },
     "output_type": "display_data"
    }
   ],
   "source": [
    "x = np.arange(0, 21)\n",
    "M = 5000\n",
    "n = 1000\n",
    "N = 20\n",
    "probs = hypergeom.pmf(x, M, n, N)\n",
    "\n",
    "# Plot these probabilities\n",
    "width = 0.70  # the width of the bars\n",
    "fig, ax = pl.subplots(1,1)\n",
    "rects = ax.bar(x - width/2, probs, width, color='SkyBlue')\n",
    "ax.set(xlabel='x', ylabel='Pr(X=x) ', title='hypergeometric distribution');"
   ]
  },
  {
   "cell_type": "markdown",
   "id": "73014994",
   "metadata": {},
   "source": [
    "##### The expected (mean) value of $X$."
   ]
  },
  {
   "cell_type": "code",
   "execution_count": 11,
   "id": "7428d03d",
   "metadata": {},
   "outputs": [
    {
     "name": "stdout",
     "output_type": "stream",
     "text": [
      "4.000000000043414\n"
     ]
    }
   ],
   "source": [
    "x = np.arange(0, 21)\n",
    "probs = hypergeom.pmf(x, M, n, N)\n",
    "Ex = sum(x*probs)\n",
    "print(Ex)"
   ]
  },
  {
   "cell_type": "markdown",
   "id": "fcb1491d",
   "metadata": {},
   "source": [
    "# Model fitting"
   ]
  },
  {
   "cell_type": "markdown",
   "id": "2176ef7b",
   "metadata": {},
   "source": [
    "#### Load the data"
   ]
  },
  {
   "cell_type": "code",
   "execution_count": 12,
   "id": "c6d51c3d",
   "metadata": {
    "tags": []
   },
   "outputs": [
    {
     "data": {
      "text/html": [
       "<div>\n",
       "<style scoped>\n",
       "    .dataframe tbody tr th:only-of-type {\n",
       "        vertical-align: middle;\n",
       "    }\n",
       "\n",
       "    .dataframe tbody tr th {\n",
       "        vertical-align: top;\n",
       "    }\n",
       "\n",
       "    .dataframe thead th {\n",
       "        text-align: right;\n",
       "    }\n",
       "</style>\n",
       "<table border=\"1\" class=\"dataframe\">\n",
       "  <thead>\n",
       "    <tr style=\"text-align: right;\">\n",
       "      <th></th>\n",
       "      <th>Country</th>\n",
       "      <th>Code</th>\n",
       "      <th>ChildMortalityPct</th>\n",
       "      <th>GDPPerCapita</th>\n",
       "      <th>Population</th>\n",
       "      <th>Continent</th>\n",
       "    </tr>\n",
       "  </thead>\n",
       "  <tbody>\n",
       "    <tr>\n",
       "      <th>3</th>\n",
       "      <td>American Samoa</td>\n",
       "      <td>ASM</td>\n",
       "      <td>NaN</td>\n",
       "      <td>NaN</td>\n",
       "      <td>56000.0</td>\n",
       "      <td>Oceania</td>\n",
       "    </tr>\n",
       "    <tr>\n",
       "      <th>4</th>\n",
       "      <td>Andorra</td>\n",
       "      <td>AND</td>\n",
       "      <td>0.2700</td>\n",
       "      <td>NaN</td>\n",
       "      <td>77000.0</td>\n",
       "      <td>Europe</td>\n",
       "    </tr>\n",
       "    <tr>\n",
       "      <th>6</th>\n",
       "      <td>Anguilla</td>\n",
       "      <td>AIA</td>\n",
       "      <td>NaN</td>\n",
       "      <td>NaN</td>\n",
       "      <td>14000.0</td>\n",
       "      <td>North America</td>\n",
       "    </tr>\n",
       "    <tr>\n",
       "      <th>7</th>\n",
       "      <td>Antigua and Barbuda</td>\n",
       "      <td>ATG</td>\n",
       "      <td>0.8500</td>\n",
       "      <td>NaN</td>\n",
       "      <td>95000.0</td>\n",
       "      <td>North America</td>\n",
       "    </tr>\n",
       "    <tr>\n",
       "      <th>10</th>\n",
       "      <td>Aruba</td>\n",
       "      <td>ABW</td>\n",
       "      <td>1.6265</td>\n",
       "      <td>NaN</td>\n",
       "      <td>105000.0</td>\n",
       "      <td>North America</td>\n",
       "    </tr>\n",
       "    <tr>\n",
       "      <th>...</th>\n",
       "      <td>...</td>\n",
       "      <td>...</td>\n",
       "      <td>...</td>\n",
       "      <td>...</td>\n",
       "      <td>...</td>\n",
       "      <td>...</td>\n",
       "    </tr>\n",
       "    <tr>\n",
       "      <th>223</th>\n",
       "      <td>United States Virgin Islands</td>\n",
       "      <td>VIR</td>\n",
       "      <td>0.9983</td>\n",
       "      <td>NaN</td>\n",
       "      <td>105000.0</td>\n",
       "      <td>North America</td>\n",
       "    </tr>\n",
       "    <tr>\n",
       "      <th>226</th>\n",
       "      <td>Vanuatu</td>\n",
       "      <td>VUT</td>\n",
       "      <td>2.7600</td>\n",
       "      <td>NaN</td>\n",
       "      <td>278000.0</td>\n",
       "      <td>Oceania</td>\n",
       "    </tr>\n",
       "    <tr>\n",
       "      <th>227</th>\n",
       "      <td>Vatican</td>\n",
       "      <td>VAT</td>\n",
       "      <td>NaN</td>\n",
       "      <td>NaN</td>\n",
       "      <td>1000.0</td>\n",
       "      <td>Europe</td>\n",
       "    </tr>\n",
       "    <tr>\n",
       "      <th>230</th>\n",
       "      <td>Wallis and Futuna</td>\n",
       "      <td>WLF</td>\n",
       "      <td>NaN</td>\n",
       "      <td>NaN</td>\n",
       "      <td>12000.0</td>\n",
       "      <td>Oceania</td>\n",
       "    </tr>\n",
       "    <tr>\n",
       "      <th>231</th>\n",
       "      <td>Western Sahara</td>\n",
       "      <td>ESH</td>\n",
       "      <td>3.6388</td>\n",
       "      <td>NaN</td>\n",
       "      <td>539000.0</td>\n",
       "      <td>Africa</td>\n",
       "    </tr>\n",
       "  </tbody>\n",
       "</table>\n",
       "<p>70 rows × 6 columns</p>\n",
       "</div>"
      ],
      "text/plain": [
       "                          Country Code  ChildMortalityPct  GDPPerCapita  \\\n",
       "3                  American Samoa  ASM                NaN           NaN   \n",
       "4                         Andorra  AND             0.2700           NaN   \n",
       "6                        Anguilla  AIA                NaN           NaN   \n",
       "7             Antigua and Barbuda  ATG             0.8500           NaN   \n",
       "10                          Aruba  ABW             1.6265           NaN   \n",
       "..                            ...  ...                ...           ...   \n",
       "223  United States Virgin Islands  VIR             0.9983           NaN   \n",
       "226                       Vanuatu  VUT             2.7600           NaN   \n",
       "227                       Vatican  VAT                NaN           NaN   \n",
       "230             Wallis and Futuna  WLF                NaN           NaN   \n",
       "231                Western Sahara  ESH             3.6388           NaN   \n",
       "\n",
       "     Population      Continent  \n",
       "3       56000.0        Oceania  \n",
       "4       77000.0         Europe  \n",
       "6       14000.0  North America  \n",
       "7       95000.0  North America  \n",
       "10     105000.0  North America  \n",
       "..          ...            ...  \n",
       "223    105000.0  North America  \n",
       "226    278000.0        Oceania  \n",
       "227      1000.0         Europe  \n",
       "230     12000.0        Oceania  \n",
       "231    539000.0         Africa  \n",
       "\n",
       "[70 rows x 6 columns]"
      ]
     },
     "execution_count": 12,
     "metadata": {},
     "output_type": "execute_result"
    }
   ],
   "source": [
    "cm2016 = pd.read_csv('cm2016.csv')\n",
    "cm2016[cm2016.isnull().any(axis=1)]"
   ]
  },
  {
   "cell_type": "code",
   "execution_count": 13,
   "id": "d356c51f",
   "metadata": {},
   "outputs": [
    {
     "data": {
      "text/html": [
       "<div>\n",
       "<style scoped>\n",
       "    .dataframe tbody tr th:only-of-type {\n",
       "        vertical-align: middle;\n",
       "    }\n",
       "\n",
       "    .dataframe tbody tr th {\n",
       "        vertical-align: top;\n",
       "    }\n",
       "\n",
       "    .dataframe thead th {\n",
       "        text-align: right;\n",
       "    }\n",
       "</style>\n",
       "<table border=\"1\" class=\"dataframe\">\n",
       "  <thead>\n",
       "    <tr style=\"text-align: right;\">\n",
       "      <th></th>\n",
       "      <th>Country</th>\n",
       "      <th>Code</th>\n",
       "      <th>ChildMortalityPct</th>\n",
       "      <th>GDPPerCapita</th>\n",
       "      <th>Population</th>\n",
       "      <th>Continent</th>\n",
       "    </tr>\n",
       "  </thead>\n",
       "  <tbody>\n",
       "    <tr>\n",
       "      <th>0</th>\n",
       "      <td>Afghanistan</td>\n",
       "      <td>AFG</td>\n",
       "      <td>7.04</td>\n",
       "      <td>1929.0</td>\n",
       "      <td>35383000.0</td>\n",
       "      <td>Asia</td>\n",
       "    </tr>\n",
       "    <tr>\n",
       "      <th>1</th>\n",
       "      <td>Albania</td>\n",
       "      <td>ALB</td>\n",
       "      <td>1.35</td>\n",
       "      <td>10342.0</td>\n",
       "      <td>2886000.0</td>\n",
       "      <td>Europe</td>\n",
       "    </tr>\n",
       "    <tr>\n",
       "      <th>2</th>\n",
       "      <td>Algeria</td>\n",
       "      <td>DZA</td>\n",
       "      <td>2.52</td>\n",
       "      <td>14331.0</td>\n",
       "      <td>40551000.0</td>\n",
       "      <td>Africa</td>\n",
       "    </tr>\n",
       "    <tr>\n",
       "      <th>5</th>\n",
       "      <td>Angola</td>\n",
       "      <td>AGO</td>\n",
       "      <td>8.25</td>\n",
       "      <td>8453.0</td>\n",
       "      <td>28842000.0</td>\n",
       "      <td>Africa</td>\n",
       "    </tr>\n",
       "    <tr>\n",
       "      <th>8</th>\n",
       "      <td>Argentina</td>\n",
       "      <td>ARG</td>\n",
       "      <td>1.11</td>\n",
       "      <td>18875.0</td>\n",
       "      <td>43508000.0</td>\n",
       "      <td>South America</td>\n",
       "    </tr>\n",
       "  </tbody>\n",
       "</table>\n",
       "</div>"
      ],
      "text/plain": [
       "       Country Code  ChildMortalityPct  GDPPerCapita  Population  \\\n",
       "0  Afghanistan  AFG               7.04        1929.0  35383000.0   \n",
       "1      Albania  ALB               1.35       10342.0   2886000.0   \n",
       "2      Algeria  DZA               2.52       14331.0  40551000.0   \n",
       "5       Angola  AGO               8.25        8453.0  28842000.0   \n",
       "8    Argentina  ARG               1.11       18875.0  43508000.0   \n",
       "\n",
       "       Continent  \n",
       "0           Asia  \n",
       "1         Europe  \n",
       "2         Africa  \n",
       "5         Africa  \n",
       "8  South America  "
      ]
     },
     "execution_count": 13,
     "metadata": {},
     "output_type": "execute_result"
    }
   ],
   "source": [
    "cm2016 = cm2016.loc[-np.isnan(cm2016['ChildMortalityPct'])]\n",
    "cm2016 = cm2016.loc[-np.isnan(cm2016['GDPPerCapita'])]\n",
    "cm2016.head()"
   ]
  },
  {
   "cell_type": "markdown",
   "id": "e31b22a7",
   "metadata": {},
   "source": [
    "#### Explore the data"
   ]
  },
  {
   "cell_type": "code",
   "execution_count": 14,
   "id": "aab04f64",
   "metadata": {},
   "outputs": [
    {
     "data": {
      "image/png": "[encoded data removed]",
      "text/plain": [
       "<Figure size 432x288 with 1 Axes>"
      ]
     },
     "metadata": {
      "needs_background": "light"
     },
     "output_type": "display_data"
    }
   ],
   "source": [
    "fig, ax = pl.subplots(1,1)\n",
    "pl.scatter(cm2016['GDPPerCapita'], cm2016['ChildMortalityPct'], marker='.', s = cm2016['Population']/1000000);\n",
    "ax.set(ylabel='child mortality', xlabel='GDP per capital', title = 'child mortality against GDP');"
   ]
  },
  {
   "cell_type": "markdown",
   "id": "a3fc3ac3",
   "metadata": {},
   "source": [
    "#### Apply a log for GDP and Child Mortality, adding these columns to the data frame."
   ]
  },
  {
   "cell_type": "code",
   "execution_count": 15,
   "id": "2227bc3c",
   "metadata": {},
   "outputs": [
    {
     "data": {
      "text/html": [
       "<div>\n",
       "<style scoped>\n",
       "    .dataframe tbody tr th:only-of-type {\n",
       "        vertical-align: middle;\n",
       "    }\n",
       "\n",
       "    .dataframe tbody tr th {\n",
       "        vertical-align: top;\n",
       "    }\n",
       "\n",
       "    .dataframe thead th {\n",
       "        text-align: right;\n",
       "    }\n",
       "</style>\n",
       "<table border=\"1\" class=\"dataframe\">\n",
       "  <thead>\n",
       "    <tr style=\"text-align: right;\">\n",
       "      <th></th>\n",
       "      <th>Country</th>\n",
       "      <th>Code</th>\n",
       "      <th>ChildMortalityPct</th>\n",
       "      <th>GDPPerCapita</th>\n",
       "      <th>Population</th>\n",
       "      <th>Continent</th>\n",
       "      <th>log_GDPPerCapita</th>\n",
       "      <th>log_ChildMortalityPct</th>\n",
       "    </tr>\n",
       "  </thead>\n",
       "  <tbody>\n",
       "    <tr>\n",
       "      <th>0</th>\n",
       "      <td>Afghanistan</td>\n",
       "      <td>AFG</td>\n",
       "      <td>7.04</td>\n",
       "      <td>1929.0</td>\n",
       "      <td>35383000.0</td>\n",
       "      <td>Asia</td>\n",
       "      <td>7.564757</td>\n",
       "      <td>1.951608</td>\n",
       "    </tr>\n",
       "    <tr>\n",
       "      <th>1</th>\n",
       "      <td>Albania</td>\n",
       "      <td>ALB</td>\n",
       "      <td>1.35</td>\n",
       "      <td>10342.0</td>\n",
       "      <td>2886000.0</td>\n",
       "      <td>Europe</td>\n",
       "      <td>9.243969</td>\n",
       "      <td>0.300105</td>\n",
       "    </tr>\n",
       "    <tr>\n",
       "      <th>2</th>\n",
       "      <td>Algeria</td>\n",
       "      <td>DZA</td>\n",
       "      <td>2.52</td>\n",
       "      <td>14331.0</td>\n",
       "      <td>40551000.0</td>\n",
       "      <td>Africa</td>\n",
       "      <td>9.570180</td>\n",
       "      <td>0.924259</td>\n",
       "    </tr>\n",
       "    <tr>\n",
       "      <th>5</th>\n",
       "      <td>Angola</td>\n",
       "      <td>AGO</td>\n",
       "      <td>8.25</td>\n",
       "      <td>8453.0</td>\n",
       "      <td>28842000.0</td>\n",
       "      <td>Africa</td>\n",
       "      <td>9.042277</td>\n",
       "      <td>2.110213</td>\n",
       "    </tr>\n",
       "    <tr>\n",
       "      <th>8</th>\n",
       "      <td>Argentina</td>\n",
       "      <td>ARG</td>\n",
       "      <td>1.11</td>\n",
       "      <td>18875.0</td>\n",
       "      <td>43508000.0</td>\n",
       "      <td>South America</td>\n",
       "      <td>9.845594</td>\n",
       "      <td>0.104360</td>\n",
       "    </tr>\n",
       "  </tbody>\n",
       "</table>\n",
       "</div>"
      ],
      "text/plain": [
       "       Country Code  ChildMortalityPct  GDPPerCapita  Population  \\\n",
       "0  Afghanistan  AFG               7.04        1929.0  35383000.0   \n",
       "1      Albania  ALB               1.35       10342.0   2886000.0   \n",
       "2      Algeria  DZA               2.52       14331.0  40551000.0   \n",
       "5       Angola  AGO               8.25        8453.0  28842000.0   \n",
       "8    Argentina  ARG               1.11       18875.0  43508000.0   \n",
       "\n",
       "       Continent  log_GDPPerCapita  log_ChildMortalityPct  \n",
       "0           Asia          7.564757               1.951608  \n",
       "1         Europe          9.243969               0.300105  \n",
       "2         Africa          9.570180               0.924259  \n",
       "5         Africa          9.042277               2.110213  \n",
       "8  South America          9.845594               0.104360  "
      ]
     },
     "execution_count": 15,
     "metadata": {},
     "output_type": "execute_result"
    }
   ],
   "source": [
    "cm2016['log_GDPPerCapita'] = np.log(cm2016['GDPPerCapita'])\n",
    "cm2016['log_ChildMortalityPct'] = np.log(cm2016['ChildMortalityPct'])\n",
    "cm2016.head()"
   ]
  },
  {
   "cell_type": "markdown",
   "id": "90aea7f9",
   "metadata": {},
   "source": [
    "#### Plot the logged data"
   ]
  },
  {
   "cell_type": "code",
   "execution_count": 16,
   "id": "419b649a",
   "metadata": {},
   "outputs": [
    {
     "data": {
      "image/png": "[encoded data removed]",
      "text/plain": [
       "<Figure size 432x288 with 1 Axes>"
      ]
     },
     "metadata": {
      "needs_background": "light"
     },
     "output_type": "display_data"
    }
   ],
   "source": [
    "fig, ax = pl.subplots(1,1)\n",
    "pl.scatter(cm2016['log_GDPPerCapita'], cm2016['log_ChildMortalityPct'], marker='.');\n",
    "ax.set(ylabel='log(child mortality)', xlabel='log(GDP) per capital', title = 'the log of Child Mortality against the log of GDP');"
   ]
  },
  {
   "cell_type": "markdown",
   "id": "cb4ded7b-ce62-4d62-a261-8c0f0a392db5",
   "metadata": {},
   "source": [
    "#### Fit a regression model, use ols() from statsmodels.formula.api"
   ]
  },
  {
   "cell_type": "code",
   "execution_count": 17,
   "id": "88e16e41",
   "metadata": {},
   "outputs": [
    {
     "data": {
      "text/html": [
       "<table class=\"simpletable\">\n",
       "<caption>OLS Regression Results</caption>\n",
       "<tr>\n",
       "  <th>Dep. Variable:</th>    <td>log_ChildMortalityPct</td> <th>  R-squared:         </th> <td>   0.687</td>\n",
       "</tr>\n",
       "<tr>\n",
       "  <th>Model:</th>                     <td>OLS</td>          <th>  Adj. R-squared:    </th> <td>   0.685</td>\n",
       "</tr>\n",
       "<tr>\n",
       "  <th>Method:</th>               <td>Least Squares</td>     <th>  F-statistic:       </th> <td>   357.4</td>\n",
       "</tr>\n",
       "<tr>\n",
       "  <th>Date:</th>               <td>Mon, 04 Oct 2021</td>    <th>  Prob (F-statistic):</th> <td>6.11e-43</td>\n",
       "</tr>\n",
       "<tr>\n",
       "  <th>Time:</th>                   <td>21:17:56</td>        <th>  Log-Likelihood:    </th> <td> -161.53</td>\n",
       "</tr>\n",
       "<tr>\n",
       "  <th>No. Observations:</th>        <td>   165</td>         <th>  AIC:               </th> <td>   327.1</td>\n",
       "</tr>\n",
       "<tr>\n",
       "  <th>Df Residuals:</th>            <td>   163</td>         <th>  BIC:               </th> <td>   333.3</td>\n",
       "</tr>\n",
       "<tr>\n",
       "  <th>Df Model:</th>                <td>     1</td>         <th>                     </th>     <td> </td>   \n",
       "</tr>\n",
       "<tr>\n",
       "  <th>Covariance Type:</th>        <td>nonrobust</td>       <th>                     </th>     <td> </td>   \n",
       "</tr>\n",
       "</table>\n",
       "<table class=\"simpletable\">\n",
       "<tr>\n",
       "          <td></td>            <th>coef</th>     <th>std err</th>      <th>t</th>      <th>P>|t|</th>  <th>[0.025</th>    <th>0.975]</th>  \n",
       "</tr>\n",
       "<tr>\n",
       "  <th>Intercept</th>        <td>    7.8915</td> <td>    0.393</td> <td>   20.085</td> <td> 0.000</td> <td>    7.116</td> <td>    8.667</td>\n",
       "</tr>\n",
       "<tr>\n",
       "  <th>log_GDPPerCapita</th> <td>   -0.7992</td> <td>    0.042</td> <td>  -18.905</td> <td> 0.000</td> <td>   -0.883</td> <td>   -0.716</td>\n",
       "</tr>\n",
       "</table>\n",
       "<table class=\"simpletable\">\n",
       "<tr>\n",
       "  <th>Omnibus:</th>       <td>17.683</td> <th>  Durbin-Watson:     </th> <td>   2.153</td>\n",
       "</tr>\n",
       "<tr>\n",
       "  <th>Prob(Omnibus):</th> <td> 0.000</td> <th>  Jarque-Bera (JB):  </th> <td>  21.357</td>\n",
       "</tr>\n",
       "<tr>\n",
       "  <th>Skew:</th>          <td> 0.708</td> <th>  Prob(JB):          </th> <td>2.30e-05</td>\n",
       "</tr>\n",
       "<tr>\n",
       "  <th>Kurtosis:</th>      <td> 4.048</td> <th>  Cond. No.          </th> <td>    73.2</td>\n",
       "</tr>\n",
       "</table><br/><br/>Notes:<br/>[1] Standard Errors assume that the covariance matrix of the errors is correctly specified."
      ],
      "text/plain": [
       "<class 'statsmodels.iolib.summary.Summary'>\n",
       "\"\"\"\n",
       "                              OLS Regression Results                             \n",
       "=================================================================================\n",
       "Dep. Variable:     log_ChildMortalityPct   R-squared:                       0.687\n",
       "Model:                               OLS   Adj. R-squared:                  0.685\n",
       "Method:                    Least Squares   F-statistic:                     357.4\n",
       "Date:                   Mon, 04 Oct 2021   Prob (F-statistic):           6.11e-43\n",
       "Time:                           21:17:56   Log-Likelihood:                -161.53\n",
       "No. Observations:                    165   AIC:                             327.1\n",
       "Df Residuals:                        163   BIC:                             333.3\n",
       "Df Model:                              1                                         \n",
       "Covariance Type:               nonrobust                                         \n",
       "====================================================================================\n",
       "                       coef    std err          t      P>|t|      [0.025      0.975]\n",
       "------------------------------------------------------------------------------------\n",
       "Intercept            7.8915      0.393     20.085      0.000       7.116       8.667\n",
       "log_GDPPerCapita    -0.7992      0.042    -18.905      0.000      -0.883      -0.716\n",
       "==============================================================================\n",
       "Omnibus:                       17.683   Durbin-Watson:                   2.153\n",
       "Prob(Omnibus):                  0.000   Jarque-Bera (JB):               21.357\n",
       "Skew:                           0.708   Prob(JB):                     2.30e-05\n",
       "Kurtosis:                       4.048   Cond. No.                         73.2\n",
       "==============================================================================\n",
       "\n",
       "Notes:\n",
       "[1] Standard Errors assume that the covariance matrix of the errors is correctly specified.\n",
       "\"\"\""
      ]
     },
     "execution_count": 17,
     "metadata": {},
     "output_type": "execute_result"
    }
   ],
   "source": [
    "# Print out a summary of the model fit\n",
    "fittedmodel = smf.ols(\"log_ChildMortalityPct ~ log_GDPPerCapita\", data=cm2016).fit()\n",
    "fittedmodel.summary() "
   ]
  },
  {
   "cell_type": "code",
   "execution_count": 18,
   "id": "6848f1e4",
   "metadata": {},
   "outputs": [
    {
     "data": {
      "image/png": "[encoded data removed]",
      "text/plain": [
       "<Figure size 432x288 with 1 Axes>"
      ]
     },
     "metadata": {
      "needs_background": "light"
     },
     "output_type": "display_data"
    }
   ],
   "source": [
    "# Plot the fitted relationship onto the data\n",
    "x=cm2016['log_GDPPerCapita']\n",
    "y=cm2016['log_ChildMortalityPct']\n",
    "predictions = fittedmodel.predict(cm2016)\n",
    "residuals = y - predictions\n",
    "\n",
    "# linear model\n",
    "fig, ax = pl.subplots(1,1)\n",
    "pl.scatter(x, y, marker='o');\n",
    "ax.set(xlabel='log_GDPPerCapita', ylabel='log_ChildMortalityPct');\n",
    "xmin, xmax = ax.get_xbound() # get the plot bounds\n",
    "xp = np.linspace(xmin, xmax, 101)\n",
    "xpmat = pd.DataFrame({'log_GDPPerCapita':xp})\n",
    "yp = fittedmodel.predict(xpmat)\n",
    "pl.plot(xp, yp, 'r-');"
   ]
  },
  {
   "cell_type": "code",
   "execution_count": 19,
   "id": "d841e5a1",
   "metadata": {},
   "outputs": [
    {
     "data": {
      "image/png": "[encoded data removed]",
      "text/plain": [
       "<Figure size 432x288 with 1 Axes>"
      ]
     },
     "metadata": {
      "needs_background": "light"
     },
     "output_type": "display_data"
    }
   ],
   "source": [
    "# Draw a scatter plot of the residuals\n",
    "fig, ax = pl.subplots(1,1)\n",
    "pl.scatter(x, residuals, marker='o');\n",
    "ax.set(xlabel='log(GDP)', ylabel='Residual');\n",
    "xmin, xmax = ax.get_xbound() # get the plot bounds\n",
    "xp = [xmin,xmax] # store these as a vector\n",
    "yp = [0, 0]\n",
    "pl.plot(xp, yp, 'r-');"
   ]
  },
  {
   "cell_type": "markdown",
   "id": "514731f9",
   "metadata": {},
   "source": [
    "#### Add a quadratic term to the model."
   ]
  },
  {
   "cell_type": "code",
   "execution_count": 20,
   "id": "2212accb",
   "metadata": {},
   "outputs": [
    {
     "data": {
      "text/html": [
       "<table class=\"simpletable\">\n",
       "<caption>OLS Regression Results</caption>\n",
       "<tr>\n",
       "  <th>Dep. Variable:</th>    <td>log_ChildMortalityPct</td> <th>  R-squared:         </th> <td>   0.689</td>\n",
       "</tr>\n",
       "<tr>\n",
       "  <th>Model:</th>                     <td>OLS</td>          <th>  Adj. R-squared:    </th> <td>   0.685</td>\n",
       "</tr>\n",
       "<tr>\n",
       "  <th>Method:</th>               <td>Least Squares</td>     <th>  F-statistic:       </th> <td>   179.6</td>\n",
       "</tr>\n",
       "<tr>\n",
       "  <th>Date:</th>               <td>Mon, 04 Oct 2021</td>    <th>  Prob (F-statistic):</th> <td>7.72e-42</td>\n",
       "</tr>\n",
       "<tr>\n",
       "  <th>Time:</th>                   <td>21:17:57</td>        <th>  Log-Likelihood:    </th> <td> -160.89</td>\n",
       "</tr>\n",
       "<tr>\n",
       "  <th>No. Observations:</th>        <td>   165</td>         <th>  AIC:               </th> <td>   327.8</td>\n",
       "</tr>\n",
       "<tr>\n",
       "  <th>Df Residuals:</th>            <td>   162</td>         <th>  BIC:               </th> <td>   337.1</td>\n",
       "</tr>\n",
       "<tr>\n",
       "  <th>Df Model:</th>                <td>     2</td>         <th>                     </th>     <td> </td>   \n",
       "</tr>\n",
       "<tr>\n",
       "  <th>Covariance Type:</th>        <td>nonrobust</td>       <th>                     </th>     <td> </td>   \n",
       "</tr>\n",
       "</table>\n",
       "<table class=\"simpletable\">\n",
       "<tr>\n",
       "          <td></td>             <th>coef</th>     <th>std err</th>      <th>t</th>      <th>P>|t|</th>  <th>[0.025</th>    <th>0.975]</th>  \n",
       "</tr>\n",
       "<tr>\n",
       "  <th>Intercept</th>         <td>    4.9609</td> <td>    2.628</td> <td>    1.888</td> <td> 0.061</td> <td>   -0.228</td> <td>   10.150</td>\n",
       "</tr>\n",
       "<tr>\n",
       "  <th>log_GDPPerCapita</th>  <td>   -0.1373</td> <td>    0.588</td> <td>   -0.233</td> <td> 0.816</td> <td>   -1.299</td> <td>    1.024</td>\n",
       "</tr>\n",
       "<tr>\n",
       "  <th>log_GDPPerCapita2</th> <td>   -0.0367</td> <td>    0.033</td> <td>   -1.128</td> <td> 0.261</td> <td>   -0.101</td> <td>    0.028</td>\n",
       "</tr>\n",
       "</table>\n",
       "<table class=\"simpletable\">\n",
       "<tr>\n",
       "  <th>Omnibus:</th>       <td>19.609</td> <th>  Durbin-Watson:     </th> <td>   2.161</td>\n",
       "</tr>\n",
       "<tr>\n",
       "  <th>Prob(Omnibus):</th> <td> 0.000</td> <th>  Jarque-Bera (JB):  </th> <td>  25.402</td>\n",
       "</tr>\n",
       "<tr>\n",
       "  <th>Skew:</th>          <td> 0.730</td> <th>  Prob(JB):          </th> <td>3.05e-06</td>\n",
       "</tr>\n",
       "<tr>\n",
       "  <th>Kurtosis:</th>      <td> 4.249</td> <th>  Cond. No.          </th> <td>4.78e+03</td>\n",
       "</tr>\n",
       "</table><br/><br/>Notes:<br/>[1] Standard Errors assume that the covariance matrix of the errors is correctly specified.<br/>[2] The condition number is large, 4.78e+03. This might indicate that there are<br/>strong multicollinearity or other numerical problems."
      ],
      "text/plain": [
       "<class 'statsmodels.iolib.summary.Summary'>\n",
       "\"\"\"\n",
       "                              OLS Regression Results                             \n",
       "=================================================================================\n",
       "Dep. Variable:     log_ChildMortalityPct   R-squared:                       0.689\n",
       "Model:                               OLS   Adj. R-squared:                  0.685\n",
       "Method:                    Least Squares   F-statistic:                     179.6\n",
       "Date:                   Mon, 04 Oct 2021   Prob (F-statistic):           7.72e-42\n",
       "Time:                           21:17:57   Log-Likelihood:                -160.89\n",
       "No. Observations:                    165   AIC:                             327.8\n",
       "Df Residuals:                        162   BIC:                             337.1\n",
       "Df Model:                              2                                         \n",
       "Covariance Type:               nonrobust                                         \n",
       "=====================================================================================\n",
       "                        coef    std err          t      P>|t|      [0.025      0.975]\n",
       "-------------------------------------------------------------------------------------\n",
       "Intercept             4.9609      2.628      1.888      0.061      -0.228      10.150\n",
       "log_GDPPerCapita     -0.1373      0.588     -0.233      0.816      -1.299       1.024\n",
       "log_GDPPerCapita2    -0.0367      0.033     -1.128      0.261      -0.101       0.028\n",
       "==============================================================================\n",
       "Omnibus:                       19.609   Durbin-Watson:                   2.161\n",
       "Prob(Omnibus):                  0.000   Jarque-Bera (JB):               25.402\n",
       "Skew:                           0.730   Prob(JB):                     3.05e-06\n",
       "Kurtosis:                       4.249   Cond. No.                     4.78e+03\n",
       "==============================================================================\n",
       "\n",
       "Notes:\n",
       "[1] Standard Errors assume that the covariance matrix of the errors is correctly specified.\n",
       "[2] The condition number is large, 4.78e+03. This might indicate that there are\n",
       "strong multicollinearity or other numerical problems.\n",
       "\"\"\""
      ]
     },
     "execution_count": 20,
     "metadata": {},
     "output_type": "execute_result"
    }
   ],
   "source": [
    "cm2016['log_GDPPerCapita2'] = cm2016['log_GDPPerCapita']**2\n",
    "# Print out a summary of the model fit\n",
    "fittedmodel2 = smf.ols(\"log_ChildMortalityPct ~ log_GDPPerCapita+log_GDPPerCapita2\", data=cm2016).fit()\n",
    "fittedmodel2.summary() "
   ]
  },
  {
   "cell_type": "code",
   "execution_count": 21,
   "id": "d6927f05",
   "metadata": {},
   "outputs": [
    {
     "data": {
      "image/png": "[encoded data removed]",
      "text/plain": [
       "<Figure size 432x288 with 1 Axes>"
      ]
     },
     "metadata": {
      "needs_background": "light"
     },
     "output_type": "display_data"
    }
   ],
   "source": [
    "# Plot the fitted relationship onto the data\n",
    "x=cm2016['log_GDPPerCapita']\n",
    "y=cm2016['log_ChildMortalityPct']\n",
    "predictions = fittedmodel2.predict(cm2016)\n",
    "residuals = y - predictions\n",
    "\n",
    "# fitted curve model\n",
    "fig, ax = pl.subplots(1,1)\n",
    "pl.scatter(x, y, marker='o');\n",
    "ax.set(xlabel='log_GDPPerCapita', ylabel='log_ChildMortalityPct');\n",
    "xmin, xmax = ax.get_xbound() # get the plot bounds\n",
    "xp = np.linspace(xmin, xmax, 101)\n",
    "xpmat = pd.DataFrame({'log_GDPPerCapita':xp, 'log_GDPPerCapita2':xp**2})\n",
    "yp = fittedmodel2.predict(xpmat)\n",
    "pl.plot(xp, yp, 'r-');"
   ]
  },
  {
   "cell_type": "code",
   "execution_count": 22,
   "id": "2a2e005d",
   "metadata": {},
   "outputs": [
    {
     "data": {
      "image/png": "[encoded data removed]",
      "text/plain": [
       "<Figure size 432x288 with 1 Axes>"
      ]
     },
     "metadata": {
      "needs_background": "light"
     },
     "output_type": "display_data"
    }
   ],
   "source": [
    "#Draw a scatter plot of the residuals\n",
    "fig, ax = pl.subplots(1,1)\n",
    "pl.scatter(x, residuals, marker='o');\n",
    "ax.set(xlabel='log(GDP)', ylabel='Residual');\n",
    "xmin, xmax = ax.get_xbound() # get the plot bounds\n",
    "xp = [xmin,xmax] # store these as a vector\n",
    "yp = [0, 0]\n",
    "pl.plot(xp, yp, 'r-');"
   ]
  },
  {
   "cell_type": "markdown",
   "id": "a25fe81e",
   "metadata": {},
   "source": [
    "#### Comments:\n",
    "1. The quadratic term does not significantly improve the fit. It also has more parameter, meaning that the likelyhood of overfiting is higher.\n",
    "2. The BIC is lower in the model with a linear fit, incating model without the quadratic term is a better model."
   ]
  },
  {
   "cell_type": "code",
   "execution_count": null,
   "id": "399eb627",
   "metadata": {},
   "outputs": [],
   "source": []
  },
  {
   "cell_type": "code",
   "execution_count": null,
   "id": "38daa074",
   "metadata": {},
   "outputs": [],
   "source": []
  },
  {
   "cell_type": "code",
   "execution_count": null,
   "id": "9649bcf9",
   "metadata": {},
   "outputs": [],
   "source": []
  }
 ],
 "metadata": {
  "kernelspec": {
   "display_name": "Python 3",
   "language": "python",
   "name": "python3"
  },
  "language_info": {
   "codemirror_mode": {
    "name": "ipython",
    "version": 3
   },
   "file_extension": ".py",
   "mimetype": "text/x-python",
   "name": "python",
   "nbconvert_exporter": "python",
   "pygments_lexer": "ipython3",
   "version": "3.8.8"
  }
 },
 "nbformat": 4,
 "nbformat_minor": 5
}
